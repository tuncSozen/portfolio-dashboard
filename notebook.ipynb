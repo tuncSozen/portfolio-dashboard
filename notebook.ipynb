{
 "cells": [
  {
   "cell_type": "code",
   "execution_count": 5,
   "id": "2f76c805",
   "metadata": {},
   "outputs": [],
   "source": [
    "import pandas as pd\n",
    "import numpy as np\n",
    "import yfinance as yf"
   ]
  },
  {
   "cell_type": "code",
   "execution_count": null,
   "id": "43ffa328",
   "metadata": {},
   "outputs": [],
   "source": [
    "start = '2024-01-01'\n",
    "end = '2025-09-30'\n",
    "\n",
    "# S&P 500, Nasdaq, 10-Year Treasury, Long-Term Corporate Bond Index, Invesco MSCI World ETF, World US Dollar Index\n",
    "tickers_dict = {'^GSPC':'SP500','^IXIC':'Nasdaq', '^TNX':'US10Y', 'IGSB': '5Y Bond Index', 'MXWO.L': 'MSCI', 'DX-Y.NYB':'USD Index', 'AOR':'60/40', 'AOM':'40/60'}\n",
    "\n",
    "df = yf.download(list(tickers_dict.keys()), start=start, end=end, auto_adjust=False, progress=False)['Adj Close']\n",
    "df.columns = df.columns.map(tickers_dict)\n",
    "\n",
    "# df.to_excel('benchmarks.xlsx')"
   ]
  },
  {
   "cell_type": "code",
   "execution_count": null,
   "id": "24f3bee4",
   "metadata": {},
   "outputs": [],
   "source": [
    "\n"
   ]
  },
  {
   "cell_type": "code",
   "execution_count": null,
   "id": "fbfc7d3e",
   "metadata": {},
   "outputs": [],
   "source": [
    "\n"
   ]
  },
  {
   "cell_type": "code",
   "execution_count": null,
   "id": "e20764c4",
   "metadata": {},
   "outputs": [
    {
     "name": "stdout",
     "output_type": "stream",
     "text": [
      "Portfolio data shape: (123, 25)\n",
      "Portfolio data columns: ['Type', 'Subtype', 'Description', 'Issuer', 'Bank', 'ISIN', 'ID', 'Currency', 'Quantity', 'Maturity', 'BuyPrice', 'MktPrice', 'FX_purchase', 'FX_current', 'Change_pct', 'Change_pct_FX', 'Change_pct_USD', 'Cost', 'Cost_USD', 'YTD_USD_pct', 'Amount', 'Value_USD', 'Unrealised', 'Unrealised_USD', 'Label']\n",
      "BBVA assets: 64\n",
      "UBS assets: 33\n",
      "LO assets: 26\n",
      "Bonds stacked chart created with 11 years of data\n",
      "Years covered: [2026.0, 2027.0, 2028.0, 2029.0, 2030.0, 2031.0, 2032.0, 2033.0, 2035.0, 2047.0, 2048.0]\n",
      "Total bonds value: $42,676\n"
     ]
    },
    {
     "data": {
      "application/vnd.plotly.v1+json": {
       "config": {
        "plotlyServerURL": "https://plot.ly"
       },
       "data": [
        {
         "hovertemplate": "<b>EUR</b><br>Year: %{x}<br>Value: $%{y:,.0f}<extra></extra>",
         "marker": {
          "color": "#10b981"
         },
         "name": "EUR",
         "type": "bar",
         "x": [
          2026,
          2027,
          2028,
          2029,
          2030,
          2031,
          2032,
          2033,
          2035,
          2047,
          2048
         ],
         "y": [
          1748,
          1995,
          640,
          731,
          1298,
          1797,
          0,
          0,
          0,
          0,
          0
         ]
        },
        {
         "hovertemplate": "<b>GBP</b><br>Year: %{x}<br>Value: $%{y:,.0f}<extra></extra>",
         "marker": {
          "color": "#f59e0b"
         },
         "name": "GBP",
         "type": "bar",
         "x": [
          2026,
          2027,
          2028,
          2029,
          2030,
          2031,
          2032,
          2033,
          2035,
          2047,
          2048
         ],
         "y": [
          322,
          0,
          1018,
          284,
          0,
          147,
          0,
          774,
          0,
          0,
          0
         ]
        },
        {
         "hovertemplate": "<b>USD</b><br>Year: %{x}<br>Value: $%{y:,.0f}<extra></extra>",
         "marker": {
          "color": "#3b82f6"
         },
         "name": "USD",
         "type": "bar",
         "x": [
          2026,
          2027,
          2028,
          2029,
          2030,
          2031,
          2032,
          2033,
          2035,
          2047,
          2048
         ],
         "y": [
          1808,
          5442,
          6279,
          5412,
          4505,
          2065,
          2265,
          559,
          2194,
          236,
          1157
         ]
        }
       ],
       "layout": {
        "barmode": "stack",
        "font": {
         "color": "#e5e5e5"
        },
        "height": 500,
        "legend": {
         "orientation": "h",
         "x": 1,
         "xanchor": "right",
         "y": 1.02,
         "yanchor": "bottom"
        },
        "margin": {
         "b": 60,
         "l": 60,
         "r": 40,
         "t": 80
        },
        "paper_bgcolor": "rgba(0,0,0,0)",
        "plot_bgcolor": "rgba(0,0,0,0)",
        "template": {
         "data": {
          "bar": [
           {
            "error_x": {
             "color": "#2a3f5f"
            },
            "error_y": {
             "color": "#2a3f5f"
            },
            "marker": {
             "line": {
              "color": "#E5ECF6",
              "width": 0.5
             },
             "pattern": {
              "fillmode": "overlay",
              "size": 10,
              "solidity": 0.2
             }
            },
            "type": "bar"
           }
          ],
          "barpolar": [
           {
            "marker": {
             "line": {
              "color": "#E5ECF6",
              "width": 0.5
             },
             "pattern": {
              "fillmode": "overlay",
              "size": 10,
              "solidity": 0.2
             }
            },
            "type": "barpolar"
           }
          ],
          "carpet": [
           {
            "aaxis": {
             "endlinecolor": "#2a3f5f",
             "gridcolor": "white",
             "linecolor": "white",
             "minorgridcolor": "white",
             "startlinecolor": "#2a3f5f"
            },
            "baxis": {
             "endlinecolor": "#2a3f5f",
             "gridcolor": "white",
             "linecolor": "white",
             "minorgridcolor": "white",
             "startlinecolor": "#2a3f5f"
            },
            "type": "carpet"
           }
          ],
          "choropleth": [
           {
            "colorbar": {
             "outlinewidth": 0,
             "ticks": ""
            },
            "type": "choropleth"
           }
          ],
          "contour": [
           {
            "colorbar": {
             "outlinewidth": 0,
             "ticks": ""
            },
            "colorscale": [
             [
              0,
              "#0d0887"
             ],
             [
              0.1111111111111111,
              "#46039f"
             ],
             [
              0.2222222222222222,
              "#7201a8"
             ],
             [
              0.3333333333333333,
              "#9c179e"
             ],
             [
              0.4444444444444444,
              "#bd3786"
             ],
             [
              0.5555555555555556,
              "#d8576b"
             ],
             [
              0.6666666666666666,
              "#ed7953"
             ],
             [
              0.7777777777777778,
              "#fb9f3a"
             ],
             [
              0.8888888888888888,
              "#fdca26"
             ],
             [
              1,
              "#f0f921"
             ]
            ],
            "type": "contour"
           }
          ],
          "contourcarpet": [
           {
            "colorbar": {
             "outlinewidth": 0,
             "ticks": ""
            },
            "type": "contourcarpet"
           }
          ],
          "heatmap": [
           {
            "colorbar": {
             "outlinewidth": 0,
             "ticks": ""
            },
            "colorscale": [
             [
              0,
              "#0d0887"
             ],
             [
              0.1111111111111111,
              "#46039f"
             ],
             [
              0.2222222222222222,
              "#7201a8"
             ],
             [
              0.3333333333333333,
              "#9c179e"
             ],
             [
              0.4444444444444444,
              "#bd3786"
             ],
             [
              0.5555555555555556,
              "#d8576b"
             ],
             [
              0.6666666666666666,
              "#ed7953"
             ],
             [
              0.7777777777777778,
              "#fb9f3a"
             ],
             [
              0.8888888888888888,
              "#fdca26"
             ],
             [
              1,
              "#f0f921"
             ]
            ],
            "type": "heatmap"
           }
          ],
          "heatmapgl": [
           {
            "colorbar": {
             "outlinewidth": 0,
             "ticks": ""
            },
            "colorscale": [
             [
              0,
              "#0d0887"
             ],
             [
              0.1111111111111111,
              "#46039f"
             ],
             [
              0.2222222222222222,
              "#7201a8"
             ],
             [
              0.3333333333333333,
              "#9c179e"
             ],
             [
              0.4444444444444444,
              "#bd3786"
             ],
             [
              0.5555555555555556,
              "#d8576b"
             ],
             [
              0.6666666666666666,
              "#ed7953"
             ],
             [
              0.7777777777777778,
              "#fb9f3a"
             ],
             [
              0.8888888888888888,
              "#fdca26"
             ],
             [
              1,
              "#f0f921"
             ]
            ],
            "type": "heatmapgl"
           }
          ],
          "histogram": [
           {
            "marker": {
             "pattern": {
              "fillmode": "overlay",
              "size": 10,
              "solidity": 0.2
             }
            },
            "type": "histogram"
           }
          ],
          "histogram2d": [
           {
            "colorbar": {
             "outlinewidth": 0,
             "ticks": ""
            },
            "colorscale": [
             [
              0,
              "#0d0887"
             ],
             [
              0.1111111111111111,
              "#46039f"
             ],
             [
              0.2222222222222222,
              "#7201a8"
             ],
             [
              0.3333333333333333,
              "#9c179e"
             ],
             [
              0.4444444444444444,
              "#bd3786"
             ],
             [
              0.5555555555555556,
              "#d8576b"
             ],
             [
              0.6666666666666666,
              "#ed7953"
             ],
             [
              0.7777777777777778,
              "#fb9f3a"
             ],
             [
              0.8888888888888888,
              "#fdca26"
             ],
             [
              1,
              "#f0f921"
             ]
            ],
            "type": "histogram2d"
           }
          ],
          "histogram2dcontour": [
           {
            "colorbar": {
             "outlinewidth": 0,
             "ticks": ""
            },
            "colorscale": [
             [
              0,
              "#0d0887"
             ],
             [
              0.1111111111111111,
              "#46039f"
             ],
             [
              0.2222222222222222,
              "#7201a8"
             ],
             [
              0.3333333333333333,
              "#9c179e"
             ],
             [
              0.4444444444444444,
              "#bd3786"
             ],
             [
              0.5555555555555556,
              "#d8576b"
             ],
             [
              0.6666666666666666,
              "#ed7953"
             ],
             [
              0.7777777777777778,
              "#fb9f3a"
             ],
             [
              0.8888888888888888,
              "#fdca26"
             ],
             [
              1,
              "#f0f921"
             ]
            ],
            "type": "histogram2dcontour"
           }
          ],
          "mesh3d": [
           {
            "colorbar": {
             "outlinewidth": 0,
             "ticks": ""
            },
            "type": "mesh3d"
           }
          ],
          "parcoords": [
           {
            "line": {
             "colorbar": {
              "outlinewidth": 0,
              "ticks": ""
             }
            },
            "type": "parcoords"
           }
          ],
          "pie": [
           {
            "automargin": true,
            "type": "pie"
           }
          ],
          "scatter": [
           {
            "fillpattern": {
             "fillmode": "overlay",
             "size": 10,
             "solidity": 0.2
            },
            "type": "scatter"
           }
          ],
          "scatter3d": [
           {
            "line": {
             "colorbar": {
              "outlinewidth": 0,
              "ticks": ""
             }
            },
            "marker": {
             "colorbar": {
              "outlinewidth": 0,
              "ticks": ""
             }
            },
            "type": "scatter3d"
           }
          ],
          "scattercarpet": [
           {
            "marker": {
             "colorbar": {
              "outlinewidth": 0,
              "ticks": ""
             }
            },
            "type": "scattercarpet"
           }
          ],
          "scattergeo": [
           {
            "marker": {
             "colorbar": {
              "outlinewidth": 0,
              "ticks": ""
             }
            },
            "type": "scattergeo"
           }
          ],
          "scattergl": [
           {
            "marker": {
             "colorbar": {
              "outlinewidth": 0,
              "ticks": ""
             }
            },
            "type": "scattergl"
           }
          ],
          "scattermapbox": [
           {
            "marker": {
             "colorbar": {
              "outlinewidth": 0,
              "ticks": ""
             }
            },
            "type": "scattermapbox"
           }
          ],
          "scatterpolar": [
           {
            "marker": {
             "colorbar": {
              "outlinewidth": 0,
              "ticks": ""
             }
            },
            "type": "scatterpolar"
           }
          ],
          "scatterpolargl": [
           {
            "marker": {
             "colorbar": {
              "outlinewidth": 0,
              "ticks": ""
             }
            },
            "type": "scatterpolargl"
           }
          ],
          "scatterternary": [
           {
            "marker": {
             "colorbar": {
              "outlinewidth": 0,
              "ticks": ""
             }
            },
            "type": "scatterternary"
           }
          ],
          "surface": [
           {
            "colorbar": {
             "outlinewidth": 0,
             "ticks": ""
            },
            "colorscale": [
             [
              0,
              "#0d0887"
             ],
             [
              0.1111111111111111,
              "#46039f"
             ],
             [
              0.2222222222222222,
              "#7201a8"
             ],
             [
              0.3333333333333333,
              "#9c179e"
             ],
             [
              0.4444444444444444,
              "#bd3786"
             ],
             [
              0.5555555555555556,
              "#d8576b"
             ],
             [
              0.6666666666666666,
              "#ed7953"
             ],
             [
              0.7777777777777778,
              "#fb9f3a"
             ],
             [
              0.8888888888888888,
              "#fdca26"
             ],
             [
              1,
              "#f0f921"
             ]
            ],
            "type": "surface"
           }
          ],
          "table": [
           {
            "cells": {
             "fill": {
              "color": "#EBF0F8"
             },
             "line": {
              "color": "white"
             }
            },
            "header": {
             "fill": {
              "color": "#C8D4E3"
             },
             "line": {
              "color": "white"
             }
            },
            "type": "table"
           }
          ]
         },
         "layout": {
          "annotationdefaults": {
           "arrowcolor": "#2a3f5f",
           "arrowhead": 0,
           "arrowwidth": 1
          },
          "autotypenumbers": "strict",
          "coloraxis": {
           "colorbar": {
            "outlinewidth": 0,
            "ticks": ""
           }
          },
          "colorscale": {
           "diverging": [
            [
             0,
             "#8e0152"
            ],
            [
             0.1,
             "#c51b7d"
            ],
            [
             0.2,
             "#de77ae"
            ],
            [
             0.3,
             "#f1b6da"
            ],
            [
             0.4,
             "#fde0ef"
            ],
            [
             0.5,
             "#f7f7f7"
            ],
            [
             0.6,
             "#e6f5d0"
            ],
            [
             0.7,
             "#b8e186"
            ],
            [
             0.8,
             "#7fbc41"
            ],
            [
             0.9,
             "#4d9221"
            ],
            [
             1,
             "#276419"
            ]
           ],
           "sequential": [
            [
             0,
             "#0d0887"
            ],
            [
             0.1111111111111111,
             "#46039f"
            ],
            [
             0.2222222222222222,
             "#7201a8"
            ],
            [
             0.3333333333333333,
             "#9c179e"
            ],
            [
             0.4444444444444444,
             "#bd3786"
            ],
            [
             0.5555555555555556,
             "#d8576b"
            ],
            [
             0.6666666666666666,
             "#ed7953"
            ],
            [
             0.7777777777777778,
             "#fb9f3a"
            ],
            [
             0.8888888888888888,
             "#fdca26"
            ],
            [
             1,
             "#f0f921"
            ]
           ],
           "sequentialminus": [
            [
             0,
             "#0d0887"
            ],
            [
             0.1111111111111111,
             "#46039f"
            ],
            [
             0.2222222222222222,
             "#7201a8"
            ],
            [
             0.3333333333333333,
             "#9c179e"
            ],
            [
             0.4444444444444444,
             "#bd3786"
            ],
            [
             0.5555555555555556,
             "#d8576b"
            ],
            [
             0.6666666666666666,
             "#ed7953"
            ],
            [
             0.7777777777777778,
             "#fb9f3a"
            ],
            [
             0.8888888888888888,
             "#fdca26"
            ],
            [
             1,
             "#f0f921"
            ]
           ]
          },
          "colorway": [
           "#636efa",
           "#EF553B",
           "#00cc96",
           "#ab63fa",
           "#FFA15A",
           "#19d3f3",
           "#FF6692",
           "#B6E880",
           "#FF97FF",
           "#FECB52"
          ],
          "font": {
           "color": "#2a3f5f"
          },
          "geo": {
           "bgcolor": "white",
           "lakecolor": "white",
           "landcolor": "#E5ECF6",
           "showlakes": true,
           "showland": true,
           "subunitcolor": "white"
          },
          "hoverlabel": {
           "align": "left"
          },
          "hovermode": "closest",
          "mapbox": {
           "style": "light"
          },
          "paper_bgcolor": "white",
          "plot_bgcolor": "#E5ECF6",
          "polar": {
           "angularaxis": {
            "gridcolor": "white",
            "linecolor": "white",
            "ticks": ""
           },
           "bgcolor": "#E5ECF6",
           "radialaxis": {
            "gridcolor": "white",
            "linecolor": "white",
            "ticks": ""
           }
          },
          "scene": {
           "xaxis": {
            "backgroundcolor": "#E5ECF6",
            "gridcolor": "white",
            "gridwidth": 2,
            "linecolor": "white",
            "showbackground": true,
            "ticks": "",
            "zerolinecolor": "white"
           },
           "yaxis": {
            "backgroundcolor": "#E5ECF6",
            "gridcolor": "white",
            "gridwidth": 2,
            "linecolor": "white",
            "showbackground": true,
            "ticks": "",
            "zerolinecolor": "white"
           },
           "zaxis": {
            "backgroundcolor": "#E5ECF6",
            "gridcolor": "white",
            "gridwidth": 2,
            "linecolor": "white",
            "showbackground": true,
            "ticks": "",
            "zerolinecolor": "white"
           }
          },
          "shapedefaults": {
           "line": {
            "color": "#2a3f5f"
           }
          },
          "ternary": {
           "aaxis": {
            "gridcolor": "white",
            "linecolor": "white",
            "ticks": ""
           },
           "baxis": {
            "gridcolor": "white",
            "linecolor": "white",
            "ticks": ""
           },
           "bgcolor": "#E5ECF6",
           "caxis": {
            "gridcolor": "white",
            "linecolor": "white",
            "ticks": ""
           }
          },
          "title": {
           "x": 0.05
          },
          "xaxis": {
           "automargin": true,
           "gridcolor": "white",
           "linecolor": "white",
           "ticks": "",
           "title": {
            "standoff": 15
           },
           "zerolinecolor": "white",
           "zerolinewidth": 2
          },
          "yaxis": {
           "automargin": true,
           "gridcolor": "white",
           "linecolor": "white",
           "ticks": "",
           "title": {
            "standoff": 15
           },
           "zerolinecolor": "white",
           "zerolinewidth": 2
          }
         }
        },
        "title": {
         "font": {
          "color": "#e5e5e5",
          "size": 16
         },
         "text": "Bonds Portfolio by Maturity Year",
         "x": 0.5,
         "xanchor": "center"
        },
        "xaxis": {
         "title": {
          "text": "Maturity Year"
         }
        },
        "yaxis": {
         "tickformat": "$,.0f",
         "title": {
          "text": "Value (USD)"
         }
        }
       }
      }
     },
     "metadata": {},
     "output_type": "display_data"
    },
    {
     "name": "stdout",
     "output_type": "stream",
     "text": [
      "\n",
      "=== Bonds Analysis ===\n",
      "Total bonds count: 64\n",
      "Total bonds value: $44,432\n",
      "Bonds by currency:\n",
      "  GBP: 5 bonds, $2,545\n",
      "  USD: 46 bonds, $31,922\n",
      "  EUR: 13 bonds, $9,965\n",
      "\n",
      "Maturity year distribution:\n",
      "  2026: $3,878\n",
      "  2027: $7,437\n",
      "  2028: $7,937\n",
      "  2029: $6,427\n",
      "  2030: $5,803\n",
      "  2031: $4,009\n",
      "  2032: $2,265\n",
      "  2033: $1,333\n",
      "  2035: $2,194\n",
      "  2047: $236\n",
      "  2048: $1,157\n"
     ]
    }
   ],
   "source": [
    "\n"
   ]
  },
  {
   "cell_type": "code",
   "execution_count": 3,
   "id": "8dca7e53",
   "metadata": {},
   "outputs": [
    {
     "name": "stdout",
     "output_type": "stream",
     "text": [
      "Benchmarks data shape: (450, 9)\n",
      "Benchmarks data columns: ['Date', '40/60', '60/40', 'USD Index', '5Y Bond Index', 'MSCI', 'SP500', 'Nasdaq', 'US10Y']\n",
      "Benchmarks data loaded successfully\n",
      "Creating YTD data for year: 2025\n",
      "Monthly data after resampling: 10 months\n",
      "Date range: 2024-12-31 00:00:00 to 2025-09-30 00:00:00\n",
      "Months included: ['2024-12', '2025-01', '2025-02', '2025-03', '2025-04', '2025-05', '2025-06', '2025-07', '2025-08', '2025-09']\n",
      "After filtering to target year: 9 months\n",
      "Filtered months: ['2025-01', '2025-02', '2025-03', '2025-04', '2025-05', '2025-06', '2025-07', '2025-08', '2025-09']\n",
      "Benchmark YTD data created with 9 months of data\n",
      "Monthly returns columns: ['40/60', '60/40', 'USD Index', '5Y Bond Index', 'MSCI', 'SP500', 'Nasdaq', 'US10Y']\n",
      "Cumulative returns columns: ['40/60', '60/40', 'USD Index', '5Y Bond Index', 'MSCI', 'SP500', 'Nasdaq', 'US10Y']\n"
     ]
    },
    {
     "data": {
      "text/html": [
       "<div>\n",
       "<style scoped>\n",
       "    .dataframe tbody tr th:only-of-type {\n",
       "        vertical-align: middle;\n",
       "    }\n",
       "\n",
       "    .dataframe tbody tr th {\n",
       "        vertical-align: top;\n",
       "    }\n",
       "\n",
       "    .dataframe thead th {\n",
       "        text-align: right;\n",
       "    }\n",
       "</style>\n",
       "<table border=\"1\" class=\"dataframe\">\n",
       "  <thead>\n",
       "    <tr style=\"text-align: right;\">\n",
       "      <th></th>\n",
       "      <th>Date</th>\n",
       "      <th>40/60</th>\n",
       "      <th>60/40</th>\n",
       "      <th>USD Index</th>\n",
       "      <th>5Y Bond Index</th>\n",
       "      <th>MSCI</th>\n",
       "      <th>SP500</th>\n",
       "      <th>Nasdaq</th>\n",
       "      <th>US10Y</th>\n",
       "    </tr>\n",
       "  </thead>\n",
       "  <tbody>\n",
       "    <tr>\n",
       "      <th>1</th>\n",
       "      <td>2025-01-31</td>\n",
       "      <td>1.47</td>\n",
       "      <td>2.06</td>\n",
       "      <td>-0.11</td>\n",
       "      <td>0.62</td>\n",
       "      <td>3.74</td>\n",
       "      <td>2.70</td>\n",
       "      <td>1.64</td>\n",
       "      <td>-0.09</td>\n",
       "    </tr>\n",
       "    <tr>\n",
       "      <th>2</th>\n",
       "      <td>2025-02-28</td>\n",
       "      <td>2.37</td>\n",
       "      <td>2.60</td>\n",
       "      <td>-0.81</td>\n",
       "      <td>1.62</td>\n",
       "      <td>1.11</td>\n",
       "      <td>1.24</td>\n",
       "      <td>-2.40</td>\n",
       "      <td>-7.48</td>\n",
       "    </tr>\n",
       "    <tr>\n",
       "      <th>3</th>\n",
       "      <td>2025-03-31</td>\n",
       "      <td>1.01</td>\n",
       "      <td>0.44</td>\n",
       "      <td>-3.95</td>\n",
       "      <td>2.03</td>\n",
       "      <td>-3.33</td>\n",
       "      <td>-4.59</td>\n",
       "      <td>-10.42</td>\n",
       "      <td>-7.15</td>\n",
       "    </tr>\n",
       "    <tr>\n",
       "      <th>4</th>\n",
       "      <td>2025-04-30</td>\n",
       "      <td>1.58</td>\n",
       "      <td>0.96</td>\n",
       "      <td>-8.31</td>\n",
       "      <td>2.64</td>\n",
       "      <td>-2.47</td>\n",
       "      <td>-5.31</td>\n",
       "      <td>-9.65</td>\n",
       "      <td>-8.66</td>\n",
       "    </tr>\n",
       "    <tr>\n",
       "      <th>5</th>\n",
       "      <td>2025-05-31</td>\n",
       "      <td>3.67</td>\n",
       "      <td>4.37</td>\n",
       "      <td>-8.44</td>\n",
       "      <td>2.94</td>\n",
       "      <td>4.00</td>\n",
       "      <td>0.51</td>\n",
       "      <td>-1.02</td>\n",
       "      <td>-3.43</td>\n",
       "    </tr>\n",
       "    <tr>\n",
       "      <th>6</th>\n",
       "      <td>2025-06-30</td>\n",
       "      <td>6.58</td>\n",
       "      <td>7.88</td>\n",
       "      <td>-10.70</td>\n",
       "      <td>3.93</td>\n",
       "      <td>8.50</td>\n",
       "      <td>5.50</td>\n",
       "      <td>5.48</td>\n",
       "      <td>-7.50</td>\n",
       "    </tr>\n",
       "    <tr>\n",
       "      <th>7</th>\n",
       "      <td>2025-07-31</td>\n",
       "      <td>6.92</td>\n",
       "      <td>8.51</td>\n",
       "      <td>-7.80</td>\n",
       "      <td>4.06</td>\n",
       "      <td>10.67</td>\n",
       "      <td>7.78</td>\n",
       "      <td>9.38</td>\n",
       "      <td>-4.66</td>\n",
       "    </tr>\n",
       "    <tr>\n",
       "      <th>8</th>\n",
       "      <td>2025-08-31</td>\n",
       "      <td>8.77</td>\n",
       "      <td>10.92</td>\n",
       "      <td>-9.88</td>\n",
       "      <td>5.16</td>\n",
       "      <td>12.81</td>\n",
       "      <td>9.84</td>\n",
       "      <td>11.11</td>\n",
       "      <td>-7.57</td>\n",
       "    </tr>\n",
       "    <tr>\n",
       "      <th>9</th>\n",
       "      <td>2025-09-30</td>\n",
       "      <td>10.84</td>\n",
       "      <td>13.40</td>\n",
       "      <td>-9.75</td>\n",
       "      <td>5.61</td>\n",
       "      <td>16.15</td>\n",
       "      <td>13.25</td>\n",
       "      <td>16.99</td>\n",
       "      <td>-9.45</td>\n",
       "    </tr>\n",
       "  </tbody>\n",
       "</table>\n",
       "</div>"
      ],
      "text/plain": [
       "        Date  40/60  60/40  USD Index  5Y Bond Index   MSCI  SP500  Nasdaq  \\\n",
       "1 2025-01-31   1.47   2.06      -0.11           0.62   3.74   2.70    1.64   \n",
       "2 2025-02-28   2.37   2.60      -0.81           1.62   1.11   1.24   -2.40   \n",
       "3 2025-03-31   1.01   0.44      -3.95           2.03  -3.33  -4.59  -10.42   \n",
       "4 2025-04-30   1.58   0.96      -8.31           2.64  -2.47  -5.31   -9.65   \n",
       "5 2025-05-31   3.67   4.37      -8.44           2.94   4.00   0.51   -1.02   \n",
       "6 2025-06-30   6.58   7.88     -10.70           3.93   8.50   5.50    5.48   \n",
       "7 2025-07-31   6.92   8.51      -7.80           4.06  10.67   7.78    9.38   \n",
       "8 2025-08-31   8.77  10.92      -9.88           5.16  12.81   9.84   11.11   \n",
       "9 2025-09-30  10.84  13.40      -9.75           5.61  16.15  13.25   16.99   \n",
       "\n",
       "   US10Y  \n",
       "1  -0.09  \n",
       "2  -7.48  \n",
       "3  -7.15  \n",
       "4  -8.66  \n",
       "5  -3.43  \n",
       "6  -7.50  \n",
       "7  -4.66  \n",
       "8  -7.57  \n",
       "9  -9.45  "
      ]
     },
     "execution_count": 3,
     "metadata": {},
     "output_type": "execute_result"
    }
   ],
   "source": [
    "# Import the data_utils functions\n",
    "from data_utils import load_benchmarks, create_benchmark_ytd\n",
    "\n",
    "# Load benchmarks data\n",
    "benchmarks_df = load_benchmarks()\n",
    "\n",
    "# Create YTD benchmark data (now returns two dataframes)\n",
    "monthly_returns, cumulative_returns = create_benchmark_ytd(benchmarks_df)\n",
    "cumulative_returns"
   ]
  },
  {
   "cell_type": "code",
   "execution_count": null,
   "id": "5d547e55",
   "metadata": {},
   "outputs": [],
   "source": []
  }
 ],
 "metadata": {
  "kernelspec": {
   "display_name": "base",
   "language": "python",
   "name": "python3"
  },
  "language_info": {
   "codemirror_mode": {
    "name": "ipython",
    "version": 3
   },
   "file_extension": ".py",
   "mimetype": "text/x-python",
   "name": "python",
   "nbconvert_exporter": "python",
   "pygments_lexer": "ipython3",
   "version": "3.12.7"
  }
 },
 "nbformat": 4,
 "nbformat_minor": 5
}
