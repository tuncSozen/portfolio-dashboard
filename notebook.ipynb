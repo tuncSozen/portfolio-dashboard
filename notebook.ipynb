{
 "cells": [
  {
   "cell_type": "code",
   "execution_count": 5,
   "id": "2f76c805",
   "metadata": {},
   "outputs": [],
   "source": [
    "import pandas as pd\n",
    "import numpy as np\n",
    "import yfinance as yf"
   ]
  },
  {
   "cell_type": "code",
   "execution_count": null,
   "id": "43ffa328",
   "metadata": {},
   "outputs": [],
   "source": [
    "start = '2024-01-01'\n",
    "end = '2025-09-30'\n",
    "\n",
    "# S&P 500, Nasdaq, 10-Year Treasury, Long-Term Corporate Bond Index, Invesco MSCI World ETF, World US Dollar Index\n",
    "tickers_dict = {'^GSPC':'SP500','^IXIC':'Nasdaq', '^TNX':'US10Y', 'IGSB': '5Y Bond Index', 'MXWO.L': 'MSCI', 'DX-Y.NYB':'USD Index', 'AOR':'60/40', 'AOM':'40/60'}\n",
    "\n",
    "df = yf.download(list(tickers_dict.keys()), start=start, end=end, auto_adjust=False, progress=False)['Adj Close']\n",
    "df.columns = df.columns.map(tickers_dict)\n",
    "\n",
    "# df.to_excel('benchmarks.xlsx')"
   ]
  },
  {
   "cell_type": "code",
   "execution_count": null,
   "id": "5d547e55",
   "metadata": {},
   "outputs": [],
   "source": [
    "def get_port_draft(port_filepath: dict[str, str], owner: str, current_fx_rates: pd.DataFrame = None, loc_no: int = 4) -> pd.DataFrame:\n",
    "    '''\n",
    "    Create first draft of portfolio\n",
    "    '''\n",
    "    # Create formatters for each bank\n",
    "    bbva_formatter = PortGen.BBVAFormatter()\n",
    "    ubs_formatter = PortGen.UBSFormatter()\n",
    "    lo_formatter = PortGen.LOFormatter()\n",
    "    # Format each bank's portfolio\n",
    "    bankDict = {}\n",
    "    bankDict['BBVA'] = bbva_formatter.format(pd.read_excel(port_filepath['BBVA']), owner)\n",
    "    bankDict['UBS'] = ubs_formatter.format(pd.read_csv(port_filepath['UBS'], sep=';'), owner, current_fx_rates=current_fx_rates, loc_no=loc_no)\n",
    "    bankDict['LO'] = lo_formatter.format(pd.read_excel(port_filepath['LO'], sheet_name='Positions'), owner)\n",
    "    bankDict['OTHER'] = pd.read_excel(port_filepath['OTHER'])\n",
    "    # Concatenate all banks' portfolios\n",
    "    return pd.concat([df for df in bankDict.values()], ignore_index=True)"
   ]
  },
  {
   "cell_type": "code",
   "execution_count": null,
   "id": "1bee4ee9",
   "metadata": {},
   "outputs": [],
   "source": [
    "owner = 'master'\n",
    "port_filepath = main.create_filepath_list(folder='2025Q3/port/', owner=owner)[0]\n",
    "fx_rates = {'CHF':1.25, 'EUR':1.17 ,'GBP':1.35}\n",
    "\n",
    "# Get port draft\n",
    "port_draft = get_port_draft(port_filepath, owner, current_fx_rates=fx_rates, loc_no=4)\n",
    "\n",
    "# port_draft.to_excel('/users/tsozen/onedrive/folio/data/master/2025Q3/drafts/2025Q3.xlsx')"
   ]
  }
 ],
 "metadata": {
  "kernelspec": {
   "display_name": "base",
   "language": "python",
   "name": "python3"
  },
  "language_info": {
   "codemirror_mode": {
    "name": "ipython",
    "version": 3
   },
   "file_extension": ".py",
   "mimetype": "text/x-python",
   "name": "python",
   "nbconvert_exporter": "python",
   "pygments_lexer": "ipython3",
   "version": "3.12.7"
  }
 },
 "nbformat": 4,
 "nbformat_minor": 5
}
